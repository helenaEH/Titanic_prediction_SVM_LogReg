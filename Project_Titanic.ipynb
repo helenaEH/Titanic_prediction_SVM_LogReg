{
 "cells": [
  {
   "cell_type": "markdown",
   "metadata": {},
   "source": [
    "# Predicting Titanic passenger survival\n",
    "* Predicting whether a passenger on Titanic based on certain characteristics will survive the boat sinking or not."
   ]
  },
  {
   "cell_type": "markdown",
   "metadata": {},
   "source": [
    "## Step 1. Import libraries and the Titanic dataset"
   ]
  },
  {
   "cell_type": "code",
   "execution_count": 1,
   "metadata": {},
   "outputs": [],
   "source": [
    "import pandas as pd\n",
    "import numpy as np\n",
    "import seaborn as sns\n",
    "import matplotlib.pyplot as plt\n",
    "from sklearn.preprocessing import MinMaxScaler\n",
    "from sklearn.model_selection import train_test_split, cross_val_score, GridSearchCV\n",
    "from sklearn.linear_model import LogisticRegression\n",
    "from sklearn.metrics import accuracy_score, precision_score, recall_score\n",
    "from sklearn.svm import SVC\n",
    "from sklearn.exceptions import DataConversionWarning\n",
    "\n",
    "from warnings import simplefilter\n",
    "\n",
    "simplefilter(action='ignore', category=(FutureWarning, DataConversionWarning)) # ignore FutureWarnings\n",
    "\n",
    "df = pd.read_csv('titanic_train.csv')"
   ]
  },
  {
   "cell_type": "markdown",
   "metadata": {},
   "source": [
    "## Step 2. Exploratory Data Analysis\n",
    "Gaining initial understanding about the data"
   ]
  },
  {
   "cell_type": "code",
   "execution_count": 2,
   "metadata": {},
   "outputs": [
    {
     "data": {
      "text/html": [
       "<div>\n",
       "<style scoped>\n",
       "    .dataframe tbody tr th:only-of-type {\n",
       "        vertical-align: middle;\n",
       "    }\n",
       "\n",
       "    .dataframe tbody tr th {\n",
       "        vertical-align: top;\n",
       "    }\n",
       "\n",
       "    .dataframe thead th {\n",
       "        text-align: right;\n",
       "    }\n",
       "</style>\n",
       "<table border=\"1\" class=\"dataframe\">\n",
       "  <thead>\n",
       "    <tr style=\"text-align: right;\">\n",
       "      <th></th>\n",
       "      <th>PassengerId</th>\n",
       "      <th>Survived</th>\n",
       "      <th>Pclass</th>\n",
       "      <th>Name</th>\n",
       "      <th>Sex</th>\n",
       "      <th>Age</th>\n",
       "      <th>SibSp</th>\n",
       "      <th>Parch</th>\n",
       "      <th>Ticket</th>\n",
       "      <th>Fare</th>\n",
       "      <th>Cabin</th>\n",
       "      <th>Embarked</th>\n",
       "    </tr>\n",
       "  </thead>\n",
       "  <tbody>\n",
       "    <tr>\n",
       "      <th>0</th>\n",
       "      <td>1</td>\n",
       "      <td>0</td>\n",
       "      <td>3</td>\n",
       "      <td>Braund, Mr. Owen Harris</td>\n",
       "      <td>male</td>\n",
       "      <td>22.0</td>\n",
       "      <td>1</td>\n",
       "      <td>0</td>\n",
       "      <td>A/5 21171</td>\n",
       "      <td>7.2500</td>\n",
       "      <td>NaN</td>\n",
       "      <td>S</td>\n",
       "    </tr>\n",
       "    <tr>\n",
       "      <th>1</th>\n",
       "      <td>2</td>\n",
       "      <td>1</td>\n",
       "      <td>1</td>\n",
       "      <td>Cumings, Mrs. John Bradley (Florence Briggs Th...</td>\n",
       "      <td>female</td>\n",
       "      <td>38.0</td>\n",
       "      <td>1</td>\n",
       "      <td>0</td>\n",
       "      <td>PC 17599</td>\n",
       "      <td>71.2833</td>\n",
       "      <td>C85</td>\n",
       "      <td>C</td>\n",
       "    </tr>\n",
       "    <tr>\n",
       "      <th>2</th>\n",
       "      <td>3</td>\n",
       "      <td>1</td>\n",
       "      <td>3</td>\n",
       "      <td>Heikkinen, Miss. Laina</td>\n",
       "      <td>female</td>\n",
       "      <td>26.0</td>\n",
       "      <td>0</td>\n",
       "      <td>0</td>\n",
       "      <td>STON/O2. 3101282</td>\n",
       "      <td>7.9250</td>\n",
       "      <td>NaN</td>\n",
       "      <td>S</td>\n",
       "    </tr>\n",
       "    <tr>\n",
       "      <th>3</th>\n",
       "      <td>4</td>\n",
       "      <td>1</td>\n",
       "      <td>1</td>\n",
       "      <td>Futrelle, Mrs. Jacques Heath (Lily May Peel)</td>\n",
       "      <td>female</td>\n",
       "      <td>35.0</td>\n",
       "      <td>1</td>\n",
       "      <td>0</td>\n",
       "      <td>113803</td>\n",
       "      <td>53.1000</td>\n",
       "      <td>C123</td>\n",
       "      <td>S</td>\n",
       "    </tr>\n",
       "    <tr>\n",
       "      <th>4</th>\n",
       "      <td>5</td>\n",
       "      <td>0</td>\n",
       "      <td>3</td>\n",
       "      <td>Allen, Mr. William Henry</td>\n",
       "      <td>male</td>\n",
       "      <td>35.0</td>\n",
       "      <td>0</td>\n",
       "      <td>0</td>\n",
       "      <td>373450</td>\n",
       "      <td>8.0500</td>\n",
       "      <td>NaN</td>\n",
       "      <td>S</td>\n",
       "    </tr>\n",
       "  </tbody>\n",
       "</table>\n",
       "</div>"
      ],
      "text/plain": [
       "   PassengerId  Survived  Pclass  \\\n",
       "0            1         0       3   \n",
       "1            2         1       1   \n",
       "2            3         1       3   \n",
       "3            4         1       1   \n",
       "4            5         0       3   \n",
       "\n",
       "                                                Name     Sex   Age  SibSp  \\\n",
       "0                            Braund, Mr. Owen Harris    male  22.0      1   \n",
       "1  Cumings, Mrs. John Bradley (Florence Briggs Th...  female  38.0      1   \n",
       "2                             Heikkinen, Miss. Laina  female  26.0      0   \n",
       "3       Futrelle, Mrs. Jacques Heath (Lily May Peel)  female  35.0      1   \n",
       "4                           Allen, Mr. William Henry    male  35.0      0   \n",
       "\n",
       "   Parch            Ticket     Fare Cabin Embarked  \n",
       "0      0         A/5 21171   7.2500   NaN        S  \n",
       "1      0          PC 17599  71.2833   C85        C  \n",
       "2      0  STON/O2. 3101282   7.9250   NaN        S  \n",
       "3      0            113803  53.1000  C123        S  \n",
       "4      0            373450   8.0500   NaN        S  "
      ]
     },
     "execution_count": 2,
     "metadata": {},
     "output_type": "execute_result"
    }
   ],
   "source": [
    "df.head()"
   ]
  },
  {
   "cell_type": "code",
   "execution_count": 3,
   "metadata": {},
   "outputs": [
    {
     "name": "stdout",
     "output_type": "stream",
     "text": [
      "<class 'pandas.core.frame.DataFrame'>\n",
      "RangeIndex: 891 entries, 0 to 890\n",
      "Data columns (total 12 columns):\n",
      "PassengerId    891 non-null int64\n",
      "Survived       891 non-null int64\n",
      "Pclass         891 non-null int64\n",
      "Name           891 non-null object\n",
      "Sex            891 non-null object\n",
      "Age            714 non-null float64\n",
      "SibSp          891 non-null int64\n",
      "Parch          891 non-null int64\n",
      "Ticket         891 non-null object\n",
      "Fare           891 non-null float64\n",
      "Cabin          204 non-null object\n",
      "Embarked       889 non-null object\n",
      "dtypes: float64(2), int64(5), object(5)\n",
      "memory usage: 83.6+ KB\n"
     ]
    }
   ],
   "source": [
    "df.info()"
   ]
  },
  {
   "cell_type": "code",
   "execution_count": 4,
   "metadata": {},
   "outputs": [],
   "source": [
    "def corr_heatmap(df):\n",
    "    \"\"\" takes dataframe, shows relationships between different features \"\"\"\n",
    "    top_corr_features = df.corr().index\n",
    "    plt.figure(figsize=(10,10))\n",
    "    heatmap = sns.heatmap(df[top_corr_features].corr(), annot=True, cmap=\"RdYlGn\")"
   ]
  },
  {
   "cell_type": "code",
   "execution_count": 5,
   "metadata": {},
   "outputs": [
    {
     "data": {
      "image/png": "[encoded data removed]",
      "text/plain": [
       "<Figure size 720x720 with 2 Axes>"
      ]
     },
     "metadata": {
      "needs_background": "light"
     },
     "output_type": "display_data"
    }
   ],
   "source": [
    "corr_heatmap(df)"
   ]
  },
  {
   "cell_type": "code",
   "execution_count": 40,
   "metadata": {},
   "outputs": [
    {
     "data": {
      "text/plain": [
       "[0, 250, 0, 330]"
      ]
     },
     "execution_count": 40,
     "metadata": {},
     "output_type": "execute_result"
    },
    {
     "data": {
      "image/png": "[encoded data removed]",
      "text/plain": [
       "<Figure size 432x288 with 1 Axes>"
      ]
     },
     "metadata": {
      "needs_background": "light"
     },
     "output_type": "display_data"
    }
   ],
   "source": [
    "# visualize fare distribution -> normalize\n",
    "df['Fare'].hist(bins=100)\n",
    "plt.axis([0, 250, 0, 330], xaxis='price', yaxis='passengers')"
   ]
  },
  {
   "cell_type": "code",
   "execution_count": 46,
   "metadata": {},
   "outputs": [
    {
     "data": {
      "text/plain": [
       "<matplotlib.axes._subplots.AxesSubplot at 0x23bcd244860>"
      ]
     },
     "execution_count": 46,
     "metadata": {},
     "output_type": "execute_result"
    },
    {
     "data": {
      "image/png": "[encoded data removed]",
      "text/plain": [
       "<Figure size 432x288 with 1 Axes>"
      ]
     },
     "metadata": {
      "needs_background": "light"
     },
     "output_type": "display_data"
    }
   ],
   "source": [
    "# distribution of age range for survived individuals -> children more likely to survive -> bin ages\n",
    "df.groupby(df['Age'])['Survived'].sum().plot.hist(bins=15)"
   ]
  },
  {
   "cell_type": "markdown",
   "metadata": {},
   "source": [
    "## Step 3. Feature Engineering\n",
    "#### Inputation \n",
    "* Embarked - replace 3 missing values with the most occuring ones  \n",
    "* Fare - fill with the mean age of Pclass\n",
    "* Age - high correl with Pclass, replace with mean age in the Pclass\n",
    "* Cabin - after feature engineering and model testing, cabin didn't improve accuracy score, column not added\n",
    "\n",
    "#### Non-numeric data\n",
    "* Sex - assign male=0, female=1\n",
    "* Embarked - one-hot encode values\n",
    "\n",
    "#### Non-normally distributed data\n",
    "\n",
    "* Age - assign 4 categorical groups, use one-hot encoding\n",
    "* Fare - scale with minmaxscaler"
   ]
  },
  {
   "cell_type": "code",
   "execution_count": 6,
   "metadata": {},
   "outputs": [
    {
     "name": "stdout",
     "output_type": "stream",
     "text": [
      "Amount of passengers Embarked=S: 644\n",
      "Amount of passengers Embarked=C: 168\n",
      "Amount of passengers Embarked=Q: 77\n",
      "Share of Embarkations from S: 72.44 %\n"
     ]
    }
   ],
   "source": [
    "print(\"Amount of passengers Embarked=S:\", df[df['Embarked'] == 'S'].count()['PassengerId'])\n",
    "print(\"Amount of passengers Embarked=C:\", df[df['Embarked'] == 'C'].count()['PassengerId'])\n",
    "print(\"Amount of passengers Embarked=Q:\", df[df['Embarked'] == 'Q'].count()['PassengerId'])\n",
    "print(\"Share of Embarkations from S:\", round(644*100/(644+168+77), 2), \"%\")"
   ]
  },
  {
   "cell_type": "code",
   "execution_count": 7,
   "metadata": {},
   "outputs": [],
   "source": [
    "def feature_engineering(df_name):\n",
    "    \n",
    "    \"\"\" Data Wrangling \"\"\"\n",
    "    \n",
    "    # 1. filling NaNs\n",
    "    \n",
    "    df_name['Embarked'].fillna(value='S', inplace=True)\n",
    "    df_name['Fare'] = df_name['Fare'].fillna(df_name.groupby('Pclass')['Fare'].transform('mean'))\n",
    "    df_name['Age'] = df_name['Age'].fillna(df_name.groupby('Pclass')['Age'].transform('mean'))\n",
    "    \n",
    "    # 2. Assigning sex numeric binary values, one-hot encode embarked\n",
    "    \n",
    "    df_name['Sex'] = pd.factorize(df_name['Sex'])[0] \n",
    "    df_name = pd.DataFrame.join(df_name, pd.get_dummies(df_name['Embarked']), how='outer')\n",
    "    \n",
    "    # 3. Scaling non-normal data   \n",
    "    df_name['binned_ages'] = pd.qcut(df_name['Age'], q=4, labels=['under_20', '20_to_40', '40_to_60', 'over_60'])\n",
    "    df_name = pd.DataFrame.join(df_name, pd.get_dummies(df_name['binned_ages']), how='outer')\n",
    "    \n",
    "    scaler = MinMaxScaler(feature_range=(0.0000000001,1))\n",
    "    df_name['Pclass_scaled'] = scaler.fit_transform(np.array(df_name['Pclass']).reshape(-1,1))\n",
    "    df_name['fare_scaled'] = scaler.fit_transform(np.array(df_name['Fare']).reshape(-1,1))\n",
    "    \n",
    "    # 4. Interaction terms \n",
    "    def sib_parch(row):\n",
    "        if row['SibSp'] + row['Parch'] == 0:\n",
    "            return int(0)\n",
    "        elif row['SibSp'] == 1 and row['Parch'] == 0:\n",
    "            return int(1)\n",
    "        elif row['SibSp'] == 0 and row['Parch'] == 1:\n",
    "            return int(1)\n",
    "        elif row['SibSp'] > 1 and row['Parch'] > 1:\n",
    "            return int(3)\n",
    "        else:\n",
    "            return int(2)\n",
    "    df_name['family_categ'] = df_name.apply(sib_parch, axis=1)\n",
    "    df_name['family_size'] = df_name.apply(sib_parch, axis=1).replace(to_replace={0: 'no_fam', 1:'small_fam', \n",
    "                                                                                  2: 'med_fam', 3: 'big_fam'})\n",
    "    df_name = pd.DataFrame.join(df_name, pd.get_dummies(df_name['family_size']), how='outer')\n",
    "    return df_name"
   ]
  },
  {
   "cell_type": "markdown",
   "metadata": {},
   "source": [
    "## Step 4. Building and evaluating the model"
   ]
  },
  {
   "cell_type": "markdown",
   "metadata": {},
   "source": [
    "### 4.1 Logistic regression"
   ]
  },
  {
   "cell_type": "code",
   "execution_count": 8,
   "metadata": {},
   "outputs": [],
   "source": [
    "df = feature_engineering(pd.read_csv('titanic_train.csv'))"
   ]
  },
  {
   "cell_type": "code",
   "execution_count": 9,
   "metadata": {},
   "outputs": [
    {
     "data": {
      "text/plain": [
       "LogisticRegression(C=1.0, class_weight=None, dual=False, fit_intercept=True,\n",
       "          intercept_scaling=1, max_iter=100, multi_class='warn',\n",
       "          n_jobs=None, penalty='l2', random_state=None, solver='newton-cg',\n",
       "          tol=0.1, verbose=0, warm_start=False)"
      ]
     },
     "execution_count": 9,
     "metadata": {},
     "output_type": "execute_result"
    }
   ],
   "source": [
    "X_log = df[['Pclass', 'no_fam', 'small_fam', 'med_fam', 'big_fam', 'SibSp', 'Parch','Age', \n",
    "             'Fare', 'Sex', 'C', 'Q', 'S', 'under_20', '20_to_40', '40_to_60', 'over_60']] \n",
    "y_log = df['Survived']\n",
    "Xtrain_log, Xtest_log, ytrain_log, ytest_log = train_test_split(X_log, y_log, test_size=0.2, random_state=42)\n",
    "\n",
    "# Fitting a model\n",
    "m_log = LogisticRegression(solver='newton-cg',tol=0.1) \n",
    "m_log.fit(Xtrain_log, ytrain_log)"
   ]
  },
  {
   "cell_type": "markdown",
   "metadata": {},
   "source": [
    "#### Model evaluation"
   ]
  },
  {
   "cell_type": "code",
   "execution_count": 10,
   "metadata": {},
   "outputs": [],
   "source": [
    "def evaluate_model(model, xtrain, xtest, ytrain, ytest):\n",
    "    \"\"\" prints out evaluation metrics for train and test sets \"\"\"\n",
    "    print('Test data evaluation results:\\n')\n",
    "    print(f'R-squared: {model.score(xtrain, ytrain).round(4)}')\n",
    "    print(f'Cross validation mean: {cross_val_score(model, xtrain, ytrain, cv=5).mean().round(4)}')\n",
    "\n",
    "    print(f'Precision: {precision_score(ytrain, model.predict(xtrain)).round(4)}')\n",
    "    print(f'Recall: {recall_score(ytrain, model.predict(xtrain)).round(4)}\\n')\n",
    "\n",
    "    print('Test data evaluation results:\\n')\n",
    "    print(f'R-squared: {model.score(xtest, ytest).round(4)}')\n",
    "    \n",
    "    print(f'Precision: {precision_score(ytest, model.predict(xtest)).round(4)}')\n",
    "    print(f'Recall: {recall_score(ytest, model.predict(xtest)).round(4)}')"
   ]
  },
  {
   "cell_type": "code",
   "execution_count": 11,
   "metadata": {},
   "outputs": [
    {
     "name": "stdout",
     "output_type": "stream",
     "text": [
      "Test data evaluation results:\n",
      "\n",
      "R-squared: 0.8104\n",
      "Cross validation mean: 0.8062\n",
      "Precision: 0.7759\n",
      "Recall: 0.6978\n",
      "\n",
      "Test data evaluation results:\n",
      "\n",
      "R-squared: 0.7989\n",
      "Precision: 0.7794\n",
      "Recall: 0.7162\n"
     ]
    }
   ],
   "source": [
    "evaluate_model(m_log, Xtrain_log, Xtest_log, ytrain_log, ytest_log)"
   ]
  },
  {
   "cell_type": "markdown",
   "metadata": {},
   "source": [
    "### 4.2 Support vector machine"
   ]
  },
  {
   "cell_type": "code",
   "execution_count": 34,
   "metadata": {},
   "outputs": [
    {
     "data": {
      "text/plain": [
       "SVC(C=9.0, cache_size=200, class_weight=None, coef0=0.0,\n",
       "  decision_function_shape='ovr', degree=3, gamma=0.01, kernel='sigmoid',\n",
       "  max_iter=-1, probability=False, random_state=None, shrinking=True,\n",
       "  tol=0.001, verbose=False)"
      ]
     },
     "execution_count": 34,
     "metadata": {},
     "output_type": "execute_result"
    }
   ],
   "source": [
    "X_svc = df[['Pclass_scaled', 'family_categ', 'Sex', 'C', 'Q', 'S', 'fare_scaled', 'under_20', '20_to_40', '40_to_60', 'over_60']]\n",
    "y_svc = df['Survived']\n",
    "\n",
    "Xtrain_svc, Xtest_svc, ytrain_svc, ytest_svc = train_test_split(X_svc, y_svc, test_size=0.2, random_state=42)\n",
    "m_svc = SVC(kernel='sigmoid', C=9.0, gamma=0.01)\n",
    "m_svc.fit(Xtrain_svc, ytrain_svc)"
   ]
  },
  {
   "cell_type": "code",
   "execution_count": 35,
   "metadata": {},
   "outputs": [
    {
     "name": "stdout",
     "output_type": "stream",
     "text": [
      "Test data evaluation results:\n",
      "\n",
      "R-squared: 0.7879\n",
      "Cross validation mean: 0.788\n",
      "Precision: 0.7388\n",
      "Recall: 0.6754\n",
      "\n",
      "Test data evaluation results:\n",
      "\n",
      "R-squared: 0.7821\n",
      "Precision: 0.7536\n",
      "Recall: 0.7027\n"
     ]
    }
   ],
   "source": [
    "evaluate_model(m_svc, Xtrain_svc, Xtest_svc, ytrain_svc, ytest_svc)"
   ]
  },
  {
   "cell_type": "markdown",
   "metadata": {},
   "source": [
    "## Step 5. Submit to Kaggle"
   ]
  },
  {
   "cell_type": "markdown",
   "metadata": {},
   "source": [
    "Predicting passenger survival on Kaggle predict.csv data gives us accuracy=0.76555 for both models. "
   ]
  },
  {
   "cell_type": "code",
   "execution_count": 36,
   "metadata": {},
   "outputs": [],
   "source": [
    "df_kaggle = feature_engineering(pd.read_csv('predict.csv'))\n",
    "ypred_kaggle_log = m_log.predict(df_kaggle[X_log.columns])\n",
    "ypred_kaggle_svc = m_svc.predict(df_kaggle[X_svc.columns])"
   ]
  },
  {
   "cell_type": "code",
   "execution_count": 38,
   "metadata": {},
   "outputs": [],
   "source": [
    "result1 = pd.DataFrame({'Survived': ypred_kaggle_log}, index=df_kaggle['PassengerId'])\n",
    "result1.to_csv('yprediction_kaggle_log.csv')\n",
    "result2 = pd.DataFrame({'Survived': ypred_kaggle_svc}, index=df_kaggle['PassengerId'])\n",
    "result2.to_csv('yprediction_kaggle_svc.csv')"
   ]
  },
  {
   "cell_type": "code",
   "execution_count": null,
   "metadata": {},
   "outputs": [],
   "source": []
  }
 ],
 "metadata": {
  "kernelspec": {
   "display_name": "Python 3",
   "language": "python",
   "name": "python3"
  },
  "language_info": {
   "codemirror_mode": {
    "name": "ipython",
    "version": 3
   },
   "file_extension": ".py",
   "mimetype": "text/x-python",
   "name": "python",
   "nbconvert_exporter": "python",
   "pygments_lexer": "ipython3",
   "version": "3.7.3"
  }
 },
 "nbformat": 4,
 "nbformat_minor": 2
}
